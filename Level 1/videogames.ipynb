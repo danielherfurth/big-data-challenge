{
 "nbformat": 4,
 "nbformat_minor": 0,
 "metadata": {
  "colab": {
   "name": "Untitled3.ipynb",
   "provenance": [],
   "collapsed_sections": [],
   "authorship_tag": "ABX9TyPcsKUiFTm3HnDRad/QEutE"
  },
  "kernelspec": {
   "name": "python3",
   "display_name": "Python 3"
  },
  "language_info": {
   "name": "python"
  }
 },
 "cells": [
  {
   "cell_type": "code",
   "execution_count": null,
   "metadata": {
    "id": "IfA37KXuIlKF"
   },
   "outputs": [],
   "source": [
    "# sample code didnt work. got this from\n",
    "# https://colab.research.google.com/drive/1Tu7xeYM0qBB-RkqLSnYGrIyzb3q7bYo1#scrollTo=KH91tEik9zZ3\n",
    "\n",
    "!pip install pyspark\n",
    "!pip install -U -q PyDrive\n",
    "!apt install openjdk-8-jdk-headless -qq\n",
    "import os\n",
    "\n",
    "os.environ[\"JAVA_HOME\"] = \"/usr/lib/jvm/java-8-openjdk-amd64\""
   ]
  },
  {
   "cell_type": "code",
   "source": [
    "import pandas as pd\n",
    "import numpy as np\n",
    "import matplotlib.pyplot as plt\n",
    "% matplotlib inline\n",
    "\n",
    "import pyspark\n",
    "from pyspark.sql import *\n",
    "from pyspark.sql.types import *\n",
    "from pyspark.sql.functions import *\n",
    "from pyspark import SparkContext, SparkConf\n",
    "\n",
    "!apt-get update\n",
    "!apt-get install openjdk-11-jdk-headless -qq > / dev / null\n",
    "\n",
    "os.environ[\"JAVA_HOME\"] = \"/usr/lib/jvm/java-11-openjdk-amd64\""
   ],
   "metadata": {
    "id": "2cM6dmaRI5iy"
   },
   "execution_count": null,
   "outputs": []
  },
  {
   "cell_type": "code",
   "source": [
    "# create the session\n",
    "conf = SparkConf().set(\"spark.ui.port\", \"4050\")\n",
    "\n",
    "# create the context\n",
    "sc = pyspark.SparkContext(conf=conf)\n",
    "spark = SparkSession.builder.getOrCreate()"
   ],
   "metadata": {
    "id": "KH91tEik9zZ3"
   },
   "execution_count": null,
   "outputs": []
  },
  {
   "cell_type": "code",
   "source": [
    "!pip install findspark\n"
   ],
   "metadata": {
    "id": "IHc_tYu_Jryh"
   },
   "execution_count": null,
   "outputs": []
  },
  {
   "cell_type": "code",
   "source": [
    "import findspark\n",
    "\n",
    "findspark.init()"
   ],
   "metadata": {
    "id": "e3TH7_2NJyy4"
   },
   "execution_count": null,
   "outputs": []
  },
  {
   "cell_type": "code",
   "source": [
    "!wget https: // jdbc.postgresql.org / download / postgresql-42.2.9.jar\n"
   ],
   "metadata": {
    "id": "ZYxQkx_HKeo2"
   },
   "execution_count": null,
   "outputs": []
  },
  {
   "cell_type": "code",
   "source": [
    "from pyspark.sql import SparkSession\n",
    "from pyspark import SparkFiles\n",
    "\n",
    "url = 'https://s3.amazonaws.com/amazon-reviews-pds/tsv/amazon_reviews_us_Video_Games_v1_00.tsv.gz'\n",
    "\n",
    "spark.sparkContext.addFile(url)\n",
    "\n"
   ],
   "metadata": {
    "id": "5LoFCZKhKkcE"
   },
   "execution_count": null,
   "outputs": []
  },
  {
   "cell_type": "code",
   "source": [
    "\n",
    "df = spark.read.option('header', 'true').csv(\n",
    "    SparkFiles.get('amazon_reviews_us_Video_Games_v1_00.tsv.gz'),\n",
    "    inferSchema=True,\n",
    "    sep='\\t',\n",
    "    timestampFormat='yyyy-mm-dd'\n",
    ")\n",
    "\n",
    "df.show()"
   ],
   "metadata": {
    "id": "JFuhG2u3N09p"
   },
   "execution_count": null,
   "outputs": []
  },
  {
   "cell_type": "markdown",
   "source": [
    "Count the number of records (rows) in the dataset.\n",
    "\n"
   ],
   "metadata": {
    "id": "eHCQ4iOlOLNN"
   }
  },
  {
   "cell_type": "code",
   "source": [
    "df.count()"
   ],
   "metadata": {
    "id": "FMDOK_DMOOI8"
   },
   "execution_count": null,
   "outputs": []
  },
  {
   "cell_type": "markdown",
   "source": [
    "Transform dataset to fit the schema"
   ],
   "metadata": {
    "id": "5tw_H4HTOeYO"
   }
  },
  {
   "cell_type": "code",
   "source": [
    "# drop nulls\n",
    "df = df.dropna()\n",
    "\n",
    "# see current schema\n",
    "df.printSchema()"
   ],
   "metadata": {
    "id": "lqqdes0ROcPR"
   },
   "execution_count": null,
   "outputs": []
  },
  {
   "cell_type": "code",
   "source": [
    "df_conv = df.withColumn(\n",
    "    'review_date',\n",
    "    df['review_date'].cast(DateType())\n",
    ")\n",
    "\n",
    "df_conv.printSchema()"
   ],
   "metadata": {
    "id": "QDjc6gI6PqUB"
   },
   "execution_count": null,
   "outputs": []
  },
  {
   "cell_type": "code",
   "source": [
    "review_cols = [\n",
    "    'review_id',\n",
    "    'customer_id',\n",
    "    'product_id',\n",
    "    'product_parent',\n",
    "    'review_date'\n",
    "]\n",
    "\n",
    "product_cols = [\n",
    "    'product_id',\n",
    "    'product_title'\n",
    "]\n",
    "\n",
    "customer_cols = [\n",
    "    'customer_id',\n",
    "    'customer_count'  # must be made first\n",
    "]\n",
    "\n",
    "vine_cols = [\n",
    "    'review_id',\n",
    "    'star_rating',\n",
    "    'helpful_votes',\n",
    "    'total_votes',\n",
    "    'vine'\n",
    "]\n",
    "\n",
    "table_cols = [review_cols, product_cols, vine_cols]\n",
    "\n"
   ],
   "metadata": {
    "id": "h9UUmgRDSCEN"
   },
   "execution_count": null,
   "outputs": []
  },
  {
   "cell_type": "code",
   "source": [
    "customers = df_conv.groupBy('customer_id').count()\n",
    "customers.show()\n",
    "customers.printSchema()"
   ],
   "metadata": {
    "id": "W72BJKaGVzld"
   },
   "execution_count": null,
   "outputs": []
  },
  {
   "cell_type": "code",
   "source": [
    "def make_tables(df, cols):\n",
    "    output_df = df.select(cols)\n",
    "    output_df.show()\n",
    "    output_df.printSchema()\n",
    "\n",
    "    return output_df\n",
    "\n",
    "\n",
    "dfs = []\n",
    "\n",
    "for c in table_cols:\n",
    "    app_df = make_tables(df_conv, c)\n",
    "    dfs.append(app_df)\n",
    "\n",
    "dfs"
   ],
   "metadata": {
    "id": "eoZ4zYlPUBVR"
   },
   "execution_count": null,
   "outputs": []
  },
  {
   "cell_type": "code",
   "source": [
    "review_id_table = dfs[0]\n",
    "products = dfs[1]\n"
   ],
   "metadata": {
    "id": "mhW78RyCaEiB"
   },
   "execution_count": null,
   "outputs": []
  },
  {
   "cell_type": "code",
   "source": [
    "vine_table = dfs[2]\n",
    "vine_table = vine_table.where(col('vine') == 'Y').show()"
   ],
   "metadata": {
    "id": "WKPY0J0iaZY-"
   },
   "execution_count": null,
   "outputs": []
  },
  {
   "cell_type": "code",
   "source": [
    "\n",
    "mode = 'append'\n",
    "jdbc_url = \"jdbc:postgresql://<endpoint>:5432/<database name>\"\n",
    "\n",
    "config = {\n",
    "    \"user\": '<username>',\n",
    "    \"password\": '<password>',\n",
    "    \"driver\": \"org.postgresql.Driver\"\n",
    "}\n",
    "\n",
    "review_id_table.write.jdbc(\n",
    "    url=jdbc_url,\n",
    "    table='review_id_table',\n",
    "    mode=mode,\n",
    "    properties=config\n",
    ")\n",
    "\n",
    "products.write.jdbc(\n",
    "    url=jdbc_url,\n",
    "    table='products',\n",
    "    mode=mode,\n",
    "    properties=config\n",
    ")\n",
    "\n",
    "vine_table.write.jdbc(\n",
    "    url=jdbc_url,\n",
    "    table='vine_table',\n",
    "    mode=mode,\n",
    "    properties=config\n",
    ")\n",
    "\n",
    "customers.write.jdbc(\n",
    "    url=jdbc_url,\n",
    "    table='customers',\n",
    "    mode=mode,\n",
    "    properties=config\n",
    ")"
   ],
   "metadata": {
    "id": "WTkSJj2ZcjLu"
   },
   "execution_count": null,
   "outputs": []
  },
  {
   "cell_type": "code",
   "source": [],
   "metadata": {
    "id": "eB118BTyknLP"
   },
   "execution_count": null,
   "outputs": []
  }
 ]
}